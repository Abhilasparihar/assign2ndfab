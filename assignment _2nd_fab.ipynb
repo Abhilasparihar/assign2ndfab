{
 "cells": [
  {
   "cell_type": "code",
   "execution_count": null,
   "id": "275aa446-bc18-48f0-837b-9f116901e6a0",
   "metadata": {},
   "outputs": [],
   "source": [
    "#Que . 1 / Ans \n",
    "\n",
    "Example :\n",
    "\n",
    "\"\"\"Using a for loop Suppose you have a list of fruits, and you want to print each fruit's name. In this scenario,\n",
    "you know the number of elements in the list (length), so a for loop is suitable:\"\"\"\n",
    "    \n",
    "fruits = ['apple' , 'mangp', 'babana', 'orange']\n",
    "for fruit in fruits :\n",
    "    print(fruit)\n",
    "    \n",
    "    \n",
    "Example :\n",
    "    \n",
    "'''Suppose you want to find the sum of numbers from 1 to a given positive integer n. Since you don't know the number of\n",
    "iterations\n",
    "required in advance (depends on the value of n), a while loop is more appropriate:'''\n",
    "    \n",
    "n = int(input(\"enter the number\"))\n",
    "starting_point = 0\n",
    "a= 1\n",
    "while a <= n:\n",
    "        starting_point = starting_point + a\n",
    "        a = a + 1\n",
    "print('the some of the numbers from 1 to ' , n , 'is :' ,starting_point)\n"
   ]
  },
  {
   "cell_type": "code",
   "execution_count": 14,
   "id": "7b012097-5596-4bd8-b526-f87f5355b841",
   "metadata": {},
   "outputs": [
    {
     "name": "stdout",
     "output_type": "stream",
     "text": [
      "55\n",
      "3628800\n",
      "55\n",
      "3628800\n"
     ]
    }
   ],
   "source": [
    "#Que . 2/ Ans :\n",
    "\n",
    "#USING FOR LOOP :\n",
    "\n",
    "# Calculate the sum using for loop\n",
    "summ = 0\n",
    "for num in range(1, 11):\n",
    "    summ = summ + num\n",
    "print(summ)\n",
    "              \n",
    "# Calculate the product using for loop\n",
    "prod = 1\n",
    "for num in range(1, 11):\n",
    "    prod = prod* num\n",
    "print(prod)\n",
    "    \n",
    "    \n",
    "#USING WHILE LOOP : # Calculate the sum using for loop\n",
    "\n",
    "summ = 0\n",
    "num = 1\n",
    "while num <= 10:\n",
    "    summ = summ + num\n",
    "    num = num + 1\n",
    "print(summ)\n",
    "\n",
    "# Calculate the product using for loop:\n",
    "\n",
    "prod = 1\n",
    "num = 1\n",
    "while num <= 10:\n",
    "    prod = prod * num\n",
    "    num = num + 1\n",
    "print(prod)\n",
    "\n"
   ]
  },
  {
   "cell_type": "code",
   "execution_count": 1,
   "id": "b2596202-63da-4176-88c8-c03c596ed70f",
   "metadata": {},
   "outputs": [
    {
     "name": "stdin",
     "output_type": "stream",
     "text": [
      "Enter the units of electricity consumed in a month:  300\n"
     ]
    },
    {
     "name": "stdout",
     "output_type": "stream",
     "text": [
      "Total electricity bill: Rs. 2050.00\n"
     ]
    }
   ],
   "source": [
    "#Que . 3/ Ans :\n",
    "\n",
    "\n",
    "def calculate_electricity_bill(units):\n",
    "    total_bill = 0\n",
    "\n",
    "    # Calculate bill for the first 100 units\n",
    "    if units <= 100:\n",
    "        total_bill = units * 4.5\n",
    "    else:\n",
    "        total_bill = 100 * 4.5\n",
    "        units -= 100\n",
    "\n",
    "        # Calculate bill for the next 100 units\n",
    "        if units <= 100:\n",
    "            total_bill += units * 6\n",
    "        else:\n",
    "            total_bill += 100 * 6\n",
    "            units -= 100\n",
    "\n",
    "            # Calculate bill for the next 100 units\n",
    "            if units <= 100:\n",
    "                total_bill += units * 10\n",
    "            else:\n",
    "                total_bill += 100 * 10\n",
    "                units -= 100\n",
    "\n",
    "                # Calculate bill for units above 300\n",
    "                total_bill += units * 20\n",
    "\n",
    "    return total_bill\n",
    "\n",
    "if __name__ == \"__main__\":\n",
    "    units_consumed = int(input(\"Enter the units of electricity consumed in a month: \"))\n",
    "    bill_amount = calculate_electricity_bill(units_consumed)\n",
    "    print(\"Total electricity bill: Rs. {:.2f}\".format(bill_amount))\n",
    "\n"
   ]
  },
  {
   "cell_type": "code",
   "execution_count": 2,
   "id": "f60bdbaf-d3b5-4ac6-a9e4-bd9011355ea5",
   "metadata": {},
   "outputs": [
    {
     "name": "stdout",
     "output_type": "stream",
     "text": [
      "Using for loop: [2, 4, 5, 6, 8, 10, 12, 14, 15, 16, 18, 20, 22, 24, 25, 26, 28, 30, 32, 34, 35, 36, 38, 40, 42, 44, 45, 46, 48, 50, 52, 54, 55, 56, 58, 60, 62, 64, 65, 66, 68, 70, 72, 74, 75, 76, 78, 80, 82, 84, 85, 86, 88, 90, 92, 94, 95, 96, 98, 100]\n",
      "Using while loop: [2, 4, 5, 6, 8, 10, 12, 14, 15, 16, 18, 20, 22, 24, 25, 26, 28, 30, 32, 34, 35, 36, 38, 40, 42, 44, 45, 46, 48, 50, 52, 54, 55, 56, 58, 60, 62, 64, 65, 66, 68, 70, 72, 74, 75, 76, 78, 80, 82, 84, 85, 86, 88, 90, 92, 94, 95, 96, 98, 100]\n"
     ]
    }
   ],
   "source": [
    "#Que . 4/ Ans :\n",
    "\n",
    "\n",
    "# Using for loop\n",
    "cubes_list_for = []\n",
    "for num in range(1, 101):\n",
    "    cube = num ** 3\n",
    "    if cube % 4 == 0 or cube % 5 == 0:\n",
    "        cubes_list_for.append(num)\n",
    "\n",
    "# Using while loop\n",
    "cubes_list_while = []\n",
    "num = 1\n",
    "while num <= 100:\n",
    "    cube = num ** 3\n",
    "    if cube % 4 == 0 or cube % 5 == 0:\n",
    "        cubes_list_while.append(num)\n",
    "    num += 1\n",
    "\n",
    "print(\"Using for loop:\", cubes_list_for)\n",
    "print(\"Using while loop:\", cubes_list_while)\n"
   ]
  },
  {
   "cell_type": "code",
   "execution_count": 4,
   "id": "a72dd87b-84e0-4512-a31a-e752413fb777",
   "metadata": {},
   "outputs": [
    {
     "name": "stdout",
     "output_type": "stream",
     "text": [
      "Number of vowels in the string: 12\n"
     ]
    }
   ],
   "source": [
    "#Que . 5/ Ans :\n",
    "def count_vowels(input_string):\n",
    "    vowels = \"aeiouAEIOU\"\n",
    "    vowel_count = 0\n",
    "\n",
    "    for char in input_string:\n",
    "        if char in vowels:\n",
    "            vowel_count =      vowel_count + 1\n",
    "\n",
    "    return vowel_count\n",
    "\n",
    "if __name__ == \"__main__\":\n",
    "    input_string = \"I want to become a data scientist\"\n",
    "    num_vowels = count_vowels(input_string)\n",
    "    print(\"Number of vowels in the string:\", num_vowels)\n"
   ]
  }
 ],
 "metadata": {
  "kernelspec": {
   "display_name": "Python 3 (ipykernel)",
   "language": "python",
   "name": "python3"
  },
  "language_info": {
   "codemirror_mode": {
    "name": "ipython",
    "version": 3
   },
   "file_extension": ".py",
   "mimetype": "text/x-python",
   "name": "python",
   "nbconvert_exporter": "python",
   "pygments_lexer": "ipython3",
   "version": "3.10.8"
  }
 },
 "nbformat": 4,
 "nbformat_minor": 5
}
